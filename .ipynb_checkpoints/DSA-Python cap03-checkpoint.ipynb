{
 "cells": [
  {
   "cell_type": "code",
   "execution_count": 1,
   "id": "e4120d37",
   "metadata": {},
   "outputs": [
    {
     "name": "stdout",
     "output_type": "stream",
     "text": [
      "Bem vindo ao calculador de Área de paralelogramo\n"
     ]
    }
   ],
   "source": [
    "print(\"Bem vindo ao calculador de Área de paralelogramo\")"
   ]
  },
  {
   "cell_type": "code",
   "execution_count": 4,
   "id": "37bc0761",
   "metadata": {},
   "outputs": [
    {
     "name": "stdout",
     "output_type": "stream",
     "text": [
      "Insira o comprimento da base:223\n"
     ]
    }
   ],
   "source": [
    "base = float(input(\"Insira o comprimento da base:\"))"
   ]
  },
  {
   "cell_type": "code",
   "execution_count": 5,
   "id": "0d3f1528",
   "metadata": {},
   "outputs": [
    {
     "name": "stdout",
     "output_type": "stream",
     "text": [
      "Insira a altura:-923\n"
     ]
    }
   ],
   "source": [
    "altura = float(input(\"Insira a altura:\"))"
   ]
  },
  {
   "cell_type": "code",
   "execution_count": 6,
   "id": "1716b0f9",
   "metadata": {},
   "outputs": [],
   "source": [
    "area = base * altura"
   ]
  },
  {
   "cell_type": "code",
   "execution_count": 7,
   "id": "ec27d205",
   "metadata": {
    "scrolled": true
   },
   "outputs": [
    {
     "name": "stdout",
     "output_type": "stream",
     "text": [
      "A área do paralelogramo é:  -205829.0\n"
     ]
    }
   ],
   "source": [
    "print(\"A área do paralelogramo é: \", area)"
   ]
  }
 ],
 "metadata": {
  "kernelspec": {
   "display_name": "Python 3 (ipykernel)",
   "language": "python",
   "name": "python3"
  },
  "language_info": {
   "codemirror_mode": {
    "name": "ipython",
    "version": 3
   },
   "file_extension": ".py",
   "mimetype": "text/x-python",
   "name": "python",
   "nbconvert_exporter": "python",
   "pygments_lexer": "ipython3",
   "version": "3.9.13"
  }
 },
 "nbformat": 4,
 "nbformat_minor": 5
}
